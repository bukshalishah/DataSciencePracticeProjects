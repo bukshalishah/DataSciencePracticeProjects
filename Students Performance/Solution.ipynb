{
 "cells": [
  {
   "cell_type": "markdown",
   "metadata": {},
   "source": [
    "# Importing Libraries"
   ]
  },
  {
   "cell_type": "code",
   "execution_count": 1,
   "metadata": {},
   "outputs": [],
   "source": [
    "import numpy as np\n",
    "import pandas as pd\n",
    "import matplotlib.pyplot as plt"
   ]
  },
  {
   "cell_type": "markdown",
   "metadata": {},
   "source": [
    "# Read Data"
   ]
  },
  {
   "cell_type": "code",
   "execution_count": 2,
   "metadata": {},
   "outputs": [],
   "source": [
    "data = pd.read_csv(\"StudentsPerformance.csv\")"
   ]
  },
  {
   "cell_type": "code",
   "execution_count": 3,
   "metadata": {},
   "outputs": [
    {
     "data": {
      "text/plain": [
       "gender                         0\n",
       "race/ethnicity                 0\n",
       "parental level of education    0\n",
       "lunch                          0\n",
       "test preparation course        0\n",
       "math score                     0\n",
       "reading score                  0\n",
       "writing score                  0\n",
       "dtype: int64"
      ]
     },
     "execution_count": 3,
     "metadata": {},
     "output_type": "execute_result"
    }
   ],
   "source": [
    "# Checking Null Values\n",
    "data.isnull().sum()"
   ]
  },
  {
   "cell_type": "code",
   "execution_count": 4,
   "metadata": {},
   "outputs": [
    {
     "data": {
      "text/html": [
       "<div>\n",
       "<style scoped>\n",
       "    .dataframe tbody tr th:only-of-type {\n",
       "        vertical-align: middle;\n",
       "    }\n",
       "\n",
       "    .dataframe tbody tr th {\n",
       "        vertical-align: top;\n",
       "    }\n",
       "\n",
       "    .dataframe thead th {\n",
       "        text-align: right;\n",
       "    }\n",
       "</style>\n",
       "<table border=\"1\" class=\"dataframe\">\n",
       "  <thead>\n",
       "    <tr style=\"text-align: right;\">\n",
       "      <th></th>\n",
       "      <th>gender</th>\n",
       "      <th>race/ethnicity</th>\n",
       "      <th>parental level of education</th>\n",
       "      <th>lunch</th>\n",
       "      <th>test preparation course</th>\n",
       "      <th>math score</th>\n",
       "      <th>reading score</th>\n",
       "      <th>writing score</th>\n",
       "    </tr>\n",
       "  </thead>\n",
       "  <tbody>\n",
       "    <tr>\n",
       "      <th>0</th>\n",
       "      <td>female</td>\n",
       "      <td>group B</td>\n",
       "      <td>bachelor's degree</td>\n",
       "      <td>standard</td>\n",
       "      <td>none</td>\n",
       "      <td>72</td>\n",
       "      <td>72</td>\n",
       "      <td>74</td>\n",
       "    </tr>\n",
       "    <tr>\n",
       "      <th>1</th>\n",
       "      <td>female</td>\n",
       "      <td>group C</td>\n",
       "      <td>some college</td>\n",
       "      <td>standard</td>\n",
       "      <td>completed</td>\n",
       "      <td>69</td>\n",
       "      <td>90</td>\n",
       "      <td>88</td>\n",
       "    </tr>\n",
       "    <tr>\n",
       "      <th>2</th>\n",
       "      <td>female</td>\n",
       "      <td>group B</td>\n",
       "      <td>master's degree</td>\n",
       "      <td>standard</td>\n",
       "      <td>none</td>\n",
       "      <td>90</td>\n",
       "      <td>95</td>\n",
       "      <td>93</td>\n",
       "    </tr>\n",
       "    <tr>\n",
       "      <th>3</th>\n",
       "      <td>male</td>\n",
       "      <td>group A</td>\n",
       "      <td>associate's degree</td>\n",
       "      <td>free/reduced</td>\n",
       "      <td>none</td>\n",
       "      <td>47</td>\n",
       "      <td>57</td>\n",
       "      <td>44</td>\n",
       "    </tr>\n",
       "    <tr>\n",
       "      <th>4</th>\n",
       "      <td>male</td>\n",
       "      <td>group C</td>\n",
       "      <td>some college</td>\n",
       "      <td>standard</td>\n",
       "      <td>none</td>\n",
       "      <td>76</td>\n",
       "      <td>78</td>\n",
       "      <td>75</td>\n",
       "    </tr>\n",
       "  </tbody>\n",
       "</table>\n",
       "</div>"
      ],
      "text/plain": [
       "   gender race/ethnicity parental level of education         lunch  \\\n",
       "0  female        group B           bachelor's degree      standard   \n",
       "1  female        group C                some college      standard   \n",
       "2  female        group B             master's degree      standard   \n",
       "3    male        group A          associate's degree  free/reduced   \n",
       "4    male        group C                some college      standard   \n",
       "\n",
       "  test preparation course  math score  reading score  writing score  \n",
       "0                    none          72             72             74  \n",
       "1               completed          69             90             88  \n",
       "2                    none          90             95             93  \n",
       "3                    none          47             57             44  \n",
       "4                    none          76             78             75  "
      ]
     },
     "execution_count": 4,
     "metadata": {},
     "output_type": "execute_result"
    }
   ],
   "source": [
    "data.head()"
   ]
  },
  {
   "cell_type": "code",
   "execution_count": 5,
   "metadata": {},
   "outputs": [],
   "source": [
    "passing_marks = 40"
   ]
  },
  {
   "cell_type": "markdown",
   "metadata": {},
   "source": [
    "# Maths Result"
   ]
  },
  {
   "cell_type": "code",
   "execution_count": 6,
   "metadata": {},
   "outputs": [],
   "source": [
    "# np.where(condition, x, y)\n",
    "data['Math_Pass_Status'] = np.where(data['math score'] < passing_marks, 'F', 'P')"
   ]
  },
  {
   "cell_type": "code",
   "execution_count": 7,
   "metadata": {
    "scrolled": true
   },
   "outputs": [
    {
     "data": {
      "text/plain": [
       "[960, 40]"
      ]
     },
     "execution_count": 7,
     "metadata": {},
     "output_type": "execute_result"
    }
   ],
   "source": [
    "passing = data.Math_Pass_Status.value_counts().tolist()\n",
    "passing"
   ]
  },
  {
   "cell_type": "code",
   "execution_count": 8,
   "metadata": {},
   "outputs": [
    {
     "data": {
      "image/png": "[encoded data removed]",
      "text/plain": [
       "<Figure size 432x288 with 1 Axes>"
      ]
     },
     "metadata": {},
     "output_type": "display_data"
    }
   ],
   "source": [
    "plt.bar(['Pass'], data.Math_Pass_Status.value_counts().P)\n",
    "plt.bar(['Fail'], data.Math_Pass_Status.value_counts().F)\n",
    "plt.legend(['Pass', 'Fail'])\n",
    "plt.title('In Maths')\n",
    "plt.show()"
   ]
  },
  {
   "cell_type": "markdown",
   "metadata": {},
   "source": [
    "# Reading Result"
   ]
  },
  {
   "cell_type": "code",
   "execution_count": 9,
   "metadata": {},
   "outputs": [],
   "source": [
    "Pass = data[data.Math_Pass_Status == 'P']\n",
    "Fail = data[data.Math_Pass_Status == 'F']"
   ]
  },
  {
   "cell_type": "code",
   "execution_count": 10,
   "metadata": {},
   "outputs": [],
   "source": [
    "Total_Maths_Fail = Fail.Math_Pass_Status.count()\n",
    "Total_Maths_Pass = Pass.Math_Pass_Status.count()"
   ]
  },
  {
   "cell_type": "code",
   "execution_count": 11,
   "metadata": {},
   "outputs": [],
   "source": [
    "data['Reading_Pass_Status'] = np.where(data['reading score'] < passing_marks, 'F', 'P')"
   ]
  },
  {
   "cell_type": "code",
   "execution_count": 12,
   "metadata": {
    "scrolled": true
   },
   "outputs": [
    {
     "data": {
      "text/plain": [
       "P    974\n",
       "F     26\n",
       "Name: Reading_Pass_Status, dtype: int64"
      ]
     },
     "execution_count": 12,
     "metadata": {},
     "output_type": "execute_result"
    }
   ],
   "source": [
    "data.Reading_Pass_Status.value_counts()"
   ]
  },
  {
   "cell_type": "code",
   "execution_count": 13,
   "metadata": {},
   "outputs": [
    {
     "data": {
      "image/png": "[encoded data removed]",
      "text/plain": [
       "<Figure size 432x288 with 1 Axes>"
      ]
     },
     "metadata": {},
     "output_type": "display_data"
    }
   ],
   "source": [
    "plt.bar(['Pass'], data.Reading_Pass_Status.value_counts().P)\n",
    "plt.bar(['Fail'], data.Reading_Pass_Status.value_counts().F)\n",
    "plt.legend(['Pass', 'Fail'])\n",
    "plt.show()"
   ]
  },
  {
   "cell_type": "markdown",
   "metadata": {},
   "source": [
    "# Writing Result"
   ]
  },
  {
   "cell_type": "code",
   "execution_count": 14,
   "metadata": {},
   "outputs": [],
   "source": [
    "data['Writing_Pass_Status'] = np.where(data['writing score'] < passing_marks, 'F', 'P')"
   ]
  },
  {
   "cell_type": "code",
   "execution_count": 15,
   "metadata": {
    "scrolled": true
   },
   "outputs": [
    {
     "data": {
      "text/plain": [
       "P    968\n",
       "F     32\n",
       "Name: Writing_Pass_Status, dtype: int64"
      ]
     },
     "execution_count": 15,
     "metadata": {},
     "output_type": "execute_result"
    }
   ],
   "source": [
    "data.Writing_Pass_Status.value_counts()"
   ]
  },
  {
   "cell_type": "code",
   "execution_count": 16,
   "metadata": {},
   "outputs": [
    {
     "data": {
      "image/png": "[encoded data removed]",
      "text/plain": [
       "<Figure size 432x288 with 1 Axes>"
      ]
     },
     "metadata": {},
     "output_type": "display_data"
    }
   ],
   "source": [
    "plt.bar(['Pass'], data.Writing_Pass_Status.value_counts().P)\n",
    "plt.bar(['Fail'], data.Writing_Pass_Status.value_counts().F)\n",
    "plt.legend(['Pass', 'Fail'])\n",
    "plt.title('Writing Result')\n",
    "plt.show()"
   ]
  },
  {
   "cell_type": "code",
   "execution_count": 17,
   "metadata": {},
   "outputs": [],
   "source": [
    "data['Over_All_Pass_Status'] = data.apply(lambda x: 'F' if x['Math_Pass_Status'] == 'F' or x['Reading_Pass_Status'] == 'F' or x[\"Writing_Pass_Status\"] == 'F' else 'P', axis=1)"
   ]
  },
  {
   "cell_type": "code",
   "execution_count": 18,
   "metadata": {},
   "outputs": [],
   "source": [
    "data['Total_Marks'] = data['math score'] + data['reading score'] + data['writing score']"
   ]
  },
  {
   "cell_type": "code",
   "execution_count": 19,
   "metadata": {},
   "outputs": [],
   "source": [
    "data['Percentage'] = data['Total_Marks'] / 3"
   ]
  },
  {
   "cell_type": "code",
   "execution_count": 20,
   "metadata": {},
   "outputs": [],
   "source": [
    "def Grades(percetage, OverAllPass):\n",
    "    if OverAllPass == 'F':\n",
    "        return 'F'\n",
    "    if percetage >= 80:\n",
    "        return 'A'\n",
    "    if percetage >= 70:\n",
    "        return 'B'\n",
    "    if percetage >= 60:\n",
    "        return 'C'\n",
    "    if percetage >= 50:\n",
    "        return 'D'\n",
    "    if percetage >= 40:\n",
    "        return 'E'\n",
    "    else:\n",
    "        return 'F'"
   ]
  },
  {
   "cell_type": "code",
   "execution_count": 21,
   "metadata": {},
   "outputs": [],
   "source": [
    "data['Grade'] = data.apply(lambda x: Grades(x['Percentage'], x['Over_All_Pass_Status']), axis=1)"
   ]
  },
  {
   "cell_type": "markdown",
   "metadata": {},
   "source": [
    "# Overall Grades"
   ]
  },
  {
   "cell_type": "code",
   "execution_count": 22,
   "metadata": {
    "scrolled": true
   },
   "outputs": [
    {
     "data": {
      "image/png": "[encoded data removed]",
      "text/plain": [
       "<Figure size 432x288 with 1 Axes>"
      ]
     },
     "metadata": {},
     "output_type": "display_data"
    }
   ],
   "source": [
    "plt.bar(['Grade A'], data[data.Grade == 'A'].count().iloc[1])\n",
    "plt.bar('Grade B', data[data.Grade == 'B'].count().iloc[1])\n",
    "plt.bar('Grade C', data[data.Grade == 'C'].count().iloc[1])\n",
    "plt.bar('Grades D', data[data.Grade == 'D'].count().iloc[1])\n",
    "plt.bar('Grades E', data[data.Grade == 'E'].count().iloc[1])\n",
    "plt.bar('Fail', data[data.Grade == 'F'].count().iloc[1])\n",
    "plt.legend(['Grade A' ,'Grade B', 'Grade C', 'Grade D', 'Grade E', 'Fail'])\n",
    "plt.title('OverAll Grades')\n",
    "plt.show()"
   ]
  },
  {
   "cell_type": "code",
   "execution_count": 23,
   "metadata": {},
   "outputs": [],
   "source": [
    "Highest_Marks = data.Total_Marks.max()\n",
    "Lowest_Marks = data.Total_Marks.min()"
   ]
  },
  {
   "cell_type": "code",
   "execution_count": 24,
   "metadata": {},
   "outputs": [
    {
     "name": "stdout",
     "output_type": "stream",
     "text": [
      "Highest Marks =  300\n",
      "Lowest Marks  =   27\n"
     ]
    }
   ],
   "source": [
    "print('Highest Marks = ' , Highest_Marks)\n",
    "print('Lowest Marks  =  ',  Lowest_Marks)"
   ]
  },
  {
   "cell_type": "code",
   "execution_count": 25,
   "metadata": {},
   "outputs": [],
   "source": [
    "Total_Students = data.count().iloc[1]"
   ]
  },
  {
   "cell_type": "code",
   "execution_count": 26,
   "metadata": {},
   "outputs": [],
   "source": [
    "Total_Pass_Students = data[data.Over_All_Pass_Status == 'P'].count().iloc[1]\n",
    "Total_Fail_Students = Total_Students - Total_Pass_Students"
   ]
  },
  {
   "cell_type": "code",
   "execution_count": 27,
   "metadata": {},
   "outputs": [],
   "source": [
    "# def overAllStatus(x):\n",
    "#     if data['Math_Pass_Status'] == 'F' or data['Reading_Pass_Status'] == 'F' or data['Writing_Pass_Status'] == 'F':\n",
    "#         data['Over_All_Pass_Status'] = 'F'\n",
    "#     else:\n",
    "#         data['Over_All_Pass_Status'] = 'P'"
   ]
  },
  {
   "cell_type": "markdown",
   "metadata": {},
   "source": [
    "# Grouping"
   ]
  },
  {
   "cell_type": "code",
   "execution_count": 28,
   "metadata": {},
   "outputs": [],
   "source": [
    "data.head()\n",
    "levels = data.groupby(data['parental level of education'])\n",
    "Bachelors_degree = levels.get_group(\"bachelor's degree\")\n",
    "Some_college = levels.get_group(\"some college\")\n",
    "Associates_degree = levels.get_group(\"associate's degree\")\n",
    "High_school = levels.get_group(\"high school\")\n",
    "Masters_degree = levels.get_group(\"master's degree\")"
   ]
  },
  {
   "cell_type": "code",
   "execution_count": 29,
   "metadata": {},
   "outputs": [
    {
     "name": "stdout",
     "output_type": "stream",
     "text": [
      "associate's degree\n",
      "bachelor's degree\n",
      "high school\n",
      "master's degree\n",
      "some college\n",
      "some high school\n"
     ]
    }
   ],
   "source": [
    "for g_name, g_data in levels:\n",
    "    print(g_name)"
   ]
  },
  {
   "cell_type": "markdown",
   "metadata": {},
   "source": [
    "# Bachelors Result"
   ]
  },
  {
   "cell_type": "code",
   "execution_count": 30,
   "metadata": {},
   "outputs": [
    {
     "data": {
      "image/png": "[encoded data removed]",
      "text/plain": [
       "<Figure size 432x288 with 1 Axes>"
      ]
     },
     "metadata": {},
     "output_type": "display_data"
    },
    {
     "name": "stdout",
     "output_type": "stream",
     "text": [
      "Max Marks = 300\n",
      "Min Marks = 117\n"
     ]
    }
   ],
   "source": [
    "Bachelors_degree_Fail = Bachelors_degree[Bachelors_degree['Over_All_Pass_Status'] == 'F']\n",
    "Bachelors_degree_Pass = Bachelors_degree[Bachelors_degree['Over_All_Pass_Status'] == 'P']\n",
    "Total_Bachelors_Fail = Bachelors_degree_Fail.count().iloc[1]\n",
    "Total_Bachelors_Pass = Bachelors_degree_Pass.count().iloc[1]\n",
    "\n",
    "# Ploting\n",
    "\n",
    "plt.bar('Pass', Total_Bachelors_Pass)\n",
    "plt.bar('Fail', Total_Bachelors_Fail)\n",
    "plt.title('Bachelores Stats')\n",
    "plt.legend([\"Pass\", 'Fail'])\n",
    "plt.show()\n",
    "\n",
    "print((\"Max Marks = \" + str(Bachelors_degree['Total_Marks'].max())))\n",
    "print(('Min Marks = ' + str(Bachelors_degree['Total_Marks'].min())))"
   ]
  },
  {
   "cell_type": "markdown",
   "metadata": {},
   "source": [
    "# Masters Result"
   ]
  },
  {
   "cell_type": "code",
   "execution_count": 31,
   "metadata": {},
   "outputs": [
    {
     "data": {
      "image/png": "[encoded data removed]",
      "text/plain": [
       "<Figure size 432x288 with 1 Axes>"
      ]
     },
     "metadata": {},
     "output_type": "display_data"
    },
    {
     "name": "stdout",
     "output_type": "stream",
     "text": [
      "Max Marks = 293\n",
      "Min Marks = 134\n"
     ]
    }
   ],
   "source": [
    "Masters_pass = Masters_degree[Masters_degree['Over_All_Pass_Status'] == 'P']\n",
    "Masters_fail = Masters_degree[Masters_degree['Over_All_Pass_Status'] == 'F']\n",
    "Total_Masters_pass = Masters_pass.count().iloc[1]\n",
    "Total_Masters_fail = Masters_fail.count().iloc[1]\n",
    "\n",
    "# Ploting\n",
    "plt.bar('Pass', Total_Masters_pass)\n",
    "plt.bar('Fail', Total_Masters_fail)\n",
    "plt.title(\"Masters Stats\")\n",
    "plt.legend(['Pass', 'Fail'])\n",
    "plt.show()\n",
    "\n",
    "print((\"Max Marks = \" + str(Masters_degree['Total_Marks'].max())))\n",
    "print(('Min Marks = ' + str(Masters_degree['Total_Marks'].min())))"
   ]
  },
  {
   "cell_type": "markdown",
   "metadata": {},
   "source": [
    "# College Result"
   ]
  },
  {
   "cell_type": "code",
   "execution_count": 32,
   "metadata": {},
   "outputs": [
    {
     "data": {
      "image/png": "[encoded data removed]",
      "text/plain": [
       "<Figure size 432x288 with 1 Axes>"
      ]
     },
     "metadata": {},
     "output_type": "display_data"
    },
    {
     "name": "stdout",
     "output_type": "stream",
     "text": [
      "Max Marks = 297\n",
      "Min Marks = 70\n"
     ]
    }
   ],
   "source": [
    "College_pass = Some_college[Some_college['Over_All_Pass_Status'] == 'P']\n",
    "College_fail = Some_college[Some_college['Over_All_Pass_Status'] == 'F']\n",
    "Total_college_pass = College_pass.count().iloc[1]\n",
    "Total_college_fail = College_fail.count().iloc[1]\n",
    "\n",
    "# Ploting\n",
    "\n",
    "plt.bar('Pass', Total_college_pass)\n",
    "plt.bar('Fail', Total_college_fail)\n",
    "plt.title('College Stats')\n",
    "plt.legend(['Pass', 'Fail'])\n",
    "plt.show()\n",
    "\n",
    "print((\"Max Marks = \" + str(Some_college['Total_Marks'].max())))\n",
    "print(('Min Marks = ' + str(Some_college['Total_Marks'].min())))"
   ]
  },
  {
   "cell_type": "markdown",
   "metadata": {},
   "source": [
    "# High School Result"
   ]
  },
  {
   "cell_type": "code",
   "execution_count": 33,
   "metadata": {},
   "outputs": [
    {
     "data": {
      "image/png": "[encoded data removed]",
      "text/plain": [
       "<Figure size 432x288 with 1 Axes>"
      ]
     },
     "metadata": {},
     "output_type": "display_data"
    },
    {
     "name": "stdout",
     "output_type": "stream",
     "text": [
      "Max Marks = 287\n",
      "Min Marks = 55\n"
     ]
    }
   ],
   "source": [
    "High_school_pass = High_school[High_school['Over_All_Pass_Status'] == 'P']\n",
    "High_school_fail = High_school[High_school['Over_All_Pass_Status'] == 'F']\n",
    "Total_high_school_pass = High_school_pass.count().iloc[1]\n",
    "Total_high_school_fail = High_school_fail.count().iloc[1]\n",
    "\n",
    "# Ploting\n",
    "\n",
    "plt.bar('Pass', Total_high_school_pass)\n",
    "plt.bar('Fail', Total_college_fail)\n",
    "plt.title('High School Stats')\n",
    "plt.legend(['Pass', 'Fail'])\n",
    "plt.show()\n",
    "\n",
    "print((\"Max Marks = \" + str(High_school['Total_Marks'].max())))\n",
    "print(('Min Marks = ' + str(High_school['Total_Marks'].min())))"
   ]
  },
  {
   "cell_type": "markdown",
   "metadata": {},
   "source": [
    "# Associates Degree Result"
   ]
  },
  {
   "cell_type": "code",
   "execution_count": 34,
   "metadata": {},
   "outputs": [
    {
     "data": {
      "image/png": "[encoded data removed]",
      "text/plain": [
       "<Figure size 432x288 with 1 Axes>"
      ]
     },
     "metadata": {},
     "output_type": "display_data"
    },
    {
     "name": "stdout",
     "output_type": "stream",
     "text": [
      "Max Marks = 300\n",
      "Min Marks = 95\n"
     ]
    }
   ],
   "source": [
    "Associates_degree_pass = Associates_degree[Associates_degree['Over_All_Pass_Status'] == 'P']\n",
    "Associates_degree_fail = Associates_degree[Associates_degree['Over_All_Pass_Status'] == 'F']\n",
    "Total_Associates_pass = Associates_degree_pass.count().iloc[1]\n",
    "Total_Associates_fail = Associates_degree_fail.count().iloc[1]\n",
    "\n",
    "# Ploting\n",
    "\n",
    "plt.bar('Pass', Total_Associates_pass)\n",
    "plt.bar('Fail', Total_Associates_fail)\n",
    "plt.title('Associates Stats')\n",
    "plt.legend(['Pass', 'Fail'])\n",
    "plt.show()\n",
    "\n",
    "print((\"Max Marks = \" + str(Associates_degree['Total_Marks'].max())))\n",
    "print(('Min Marks = ' + str(Associates_degree['Total_Marks'].min())))"
   ]
  },
  {
   "cell_type": "markdown",
   "metadata": {},
   "source": [
    "# Passing Ratio"
   ]
  },
  {
   "cell_type": "code",
   "execution_count": 35,
   "metadata": {},
   "outputs": [],
   "source": [
    "Passing_Ratio = (data[data.Over_All_Pass_Status == 'P'].count().iloc[1] / data.count().iloc[1]) * 100"
   ]
  },
  {
   "cell_type": "code",
   "execution_count": 36,
   "metadata": {},
   "outputs": [
    {
     "name": "stdout",
     "output_type": "stream",
     "text": [
      "Passing Ratio =  94.89999999999999\n"
     ]
    }
   ],
   "source": [
    "print('Passing Ratio = ' , str(Passing_Ratio))"
   ]
  },
  {
   "cell_type": "markdown",
   "metadata": {},
   "source": [
    "# Over All Pass Students sort by parental level of education"
   ]
  },
  {
   "cell_type": "code",
   "execution_count": 37,
   "metadata": {},
   "outputs": [
    {
     "data": {
      "image/png": "[encoded data removed]",
      "text/plain": [
       "<Figure size 432x288 with 1 Axes>"
      ]
     },
     "metadata": {},
     "output_type": "display_data"
    }
   ],
   "source": [
    "plt.bar('High School', Total_high_school_pass)\n",
    "plt.bar('College', Total_college_pass)\n",
    "plt.bar('Bachelors', Total_Bachelors_Pass)\n",
    "plt.bar('Masters', Total_Masters_pass)\n",
    "plt.bar('Associates', Total_Associates_pass)\n",
    "plt.legend(['High School', 'College', 'Bachelors', 'Masters', 'Associates'])\n",
    "plt.title(\"Pass Students\")\n",
    "plt.ylabel('Students')\n",
    "plt.xlabel('Degree')\n",
    "plt.show()"
   ]
  },
  {
   "cell_type": "markdown",
   "metadata": {},
   "source": [
    "# Over All Fail Students sort by parental level of education"
   ]
  },
  {
   "cell_type": "code",
   "execution_count": 38,
   "metadata": {},
   "outputs": [
    {
     "data": {
      "image/png": "[encoded data removed]",
      "text/plain": [
       "<Figure size 432x288 with 1 Axes>"
      ]
     },
     "metadata": {},
     "output_type": "display_data"
    }
   ],
   "source": [
    "plt.bar('High School', Total_college_fail)\n",
    "plt.bar('College', Total_college_fail)\n",
    "plt.bar('Bachelors', Total_Bachelors_Fail)\n",
    "plt.bar('Masters', Total_Masters_fail)\n",
    "plt.bar('Associates', Total_Associates_fail)\n",
    "plt.title(\"Fail Students\")\n",
    "plt.ylabel('Students')\n",
    "plt.xlabel('Degree')\n",
    "plt.legend(['High School', 'College', 'Bachelors', 'Masters', 'Associates'])\n",
    "plt.show()"
   ]
  },
  {
   "cell_type": "code",
   "execution_count": 39,
   "metadata": {},
   "outputs": [],
   "source": [
    "# End"
   ]
  }
 ],
 "metadata": {
  "kernelspec": {
   "display_name": "Python 3",
   "language": "python",
   "name": "python3"
  },
  "language_info": {
   "codemirror_mode": {
    "name": "ipython",
    "version": 3
   },
   "file_extension": ".py",
   "mimetype": "text/x-python",
   "name": "python",
   "nbconvert_exporter": "python",
   "pygments_lexer": "ipython3",
   "version": "3.6.5"
  }
 },
 "nbformat": 4,
 "nbformat_minor": 2
}
